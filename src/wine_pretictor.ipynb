{
 "cells": [
  {
   "cell_type": "code",
   "execution_count": 49,
   "metadata": {},
   "outputs": [],
   "source": [
    "import pandas\n",
    "\n",
    "file = pandas.read_csv(\"../data/wine_dataset.csv\")"
   ]
  },
  {
   "cell_type": "markdown",
   "metadata": {},
   "source": [
    "# Preparação da variável categórica\n",
    "\n",
    "Substitui a palavra red por 0 e white por 1"
   ]
  },
  {
   "cell_type": "code",
   "execution_count": 46,
   "metadata": {},
   "outputs": [],
   "source": [
    "file[\"style\"] = file[\"style\"].replace(\"red\", 0)\n",
    "file[\"style\"] = file[\"style\"].replace(\"white\", 1)"
   ]
  },
  {
   "cell_type": "markdown",
   "metadata": {},
   "source": [
    "# Separação de dados de treino e teste\n",
    "\n",
    "Separando as variáveis entre preditoras e variável alvo. A variável alvo é a que queremos prever"
   ]
  },
  {
   "cell_type": "code",
   "execution_count": 30,
   "metadata": {},
   "outputs": [],
   "source": [
    "y = file[\"style\"] # alvo\n",
    "x = file.drop(\"style\", axis=1) # dataframe sem coluna style"
   ]
  },
  {
   "cell_type": "code",
   "execution_count": 45,
   "metadata": {},
   "outputs": [
    {
     "name": "stdout",
     "output_type": "stream",
     "text": [
      "Treino (4547, 12)\n",
      "Teste (1950, 12)\n"
     ]
    }
   ],
   "source": [
    "from sklearn.model_selection import train_test_split\n",
    "\n",
    "# Variáveis de treino e teste\n",
    "x_treino, x_teste, y_treino, y_teste = train_test_split(x, y, test_size = 0.3) # 30% para teste, 70% para treino\n",
    "\n",
    "print(f\"Treino {x_treino.shape}\")\n",
    "print(f\"Teste {x_teste.shape}\")"
   ]
  },
  {
   "cell_type": "markdown",
   "metadata": {},
   "source": [
    "# Algorítimo\n",
    "\n",
    "ExtraTreesClassifier é um algorítimo de árvore de decisão"
   ]
  },
  {
   "cell_type": "code",
   "execution_count": 51,
   "metadata": {},
   "outputs": [
    {
     "name": "stdout",
     "output_type": "stream",
     "text": [
      "Acurácia: 0.9969230769230769\n"
     ]
    }
   ],
   "source": [
    "from sklearn.ensemble import ExtraTreesClassifier\n",
    "\n",
    "model = ExtraTreesClassifier(n_estimators=100) # Instancia do modelo\n",
    "model.fit(x_treino, y_treino) # y_treino contém as respostas corretas\n",
    "\n",
    "print(f\"Acurácia: {model.score(x_teste, y_teste)}\") # Testa a precisão comparando com o dataset de teste"
   ]
  },
  {
   "cell_type": "markdown",
   "metadata": {},
   "source": [
    "# Testando o modelo"
   ]
  },
  {
   "cell_type": "code",
   "execution_count": 55,
   "metadata": {},
   "outputs": [
    {
     "data": {
      "text/plain": [
       "1708    1\n",
       "3984    1\n",
       "4983    1\n",
       "896     0\n",
       "6352    1\n",
       "5372    1\n",
       "1434    0\n",
       "877     0\n",
       "2120    1\n",
       "1053    0\n",
       "Name: style, dtype: int64"
      ]
     },
     "execution_count": 55,
     "metadata": {},
     "output_type": "execute_result"
    }
   ],
   "source": [
    "y_teste[360:370]"
   ]
  },
  {
   "cell_type": "code",
   "execution_count": 56,
   "metadata": {},
   "outputs": [
    {
     "data": {
      "text/html": [
       "<div>\n",
       "<style scoped>\n",
       "    .dataframe tbody tr th:only-of-type {\n",
       "        vertical-align: middle;\n",
       "    }\n",
       "\n",
       "    .dataframe tbody tr th {\n",
       "        vertical-align: top;\n",
       "    }\n",
       "\n",
       "    .dataframe thead th {\n",
       "        text-align: right;\n",
       "    }\n",
       "</style>\n",
       "<table border=\"1\" class=\"dataframe\">\n",
       "  <thead>\n",
       "    <tr style=\"text-align: right;\">\n",
       "      <th></th>\n",
       "      <th>fixed_acidity</th>\n",
       "      <th>volatile_acidity</th>\n",
       "      <th>citric_acid</th>\n",
       "      <th>residual_sugar</th>\n",
       "      <th>chlorides</th>\n",
       "      <th>free_sulfur_dioxide</th>\n",
       "      <th>total_sulfur_dioxide</th>\n",
       "      <th>density</th>\n",
       "      <th>pH</th>\n",
       "      <th>sulphates</th>\n",
       "      <th>alcohol</th>\n",
       "      <th>quality</th>\n",
       "    </tr>\n",
       "  </thead>\n",
       "  <tbody>\n",
       "    <tr>\n",
       "      <th>1708</th>\n",
       "      <td>6.9</td>\n",
       "      <td>0.330</td>\n",
       "      <td>0.28</td>\n",
       "      <td>1.30</td>\n",
       "      <td>0.051</td>\n",
       "      <td>37.0</td>\n",
       "      <td>187.0</td>\n",
       "      <td>0.99270</td>\n",
       "      <td>3.27</td>\n",
       "      <td>0.60</td>\n",
       "      <td>10.3</td>\n",
       "      <td>5</td>\n",
       "    </tr>\n",
       "    <tr>\n",
       "      <th>3984</th>\n",
       "      <td>7.6</td>\n",
       "      <td>0.200</td>\n",
       "      <td>0.68</td>\n",
       "      <td>12.90</td>\n",
       "      <td>0.042</td>\n",
       "      <td>56.0</td>\n",
       "      <td>160.0</td>\n",
       "      <td>0.99841</td>\n",
       "      <td>3.05</td>\n",
       "      <td>0.41</td>\n",
       "      <td>8.7</td>\n",
       "      <td>5</td>\n",
       "    </tr>\n",
       "    <tr>\n",
       "      <th>4983</th>\n",
       "      <td>6.8</td>\n",
       "      <td>0.230</td>\n",
       "      <td>0.30</td>\n",
       "      <td>6.95</td>\n",
       "      <td>0.044</td>\n",
       "      <td>42.0</td>\n",
       "      <td>179.0</td>\n",
       "      <td>0.99460</td>\n",
       "      <td>3.25</td>\n",
       "      <td>0.56</td>\n",
       "      <td>10.6</td>\n",
       "      <td>6</td>\n",
       "    </tr>\n",
       "    <tr>\n",
       "      <th>896</th>\n",
       "      <td>8.3</td>\n",
       "      <td>0.310</td>\n",
       "      <td>0.39</td>\n",
       "      <td>2.40</td>\n",
       "      <td>0.078</td>\n",
       "      <td>17.0</td>\n",
       "      <td>43.0</td>\n",
       "      <td>0.99444</td>\n",
       "      <td>3.31</td>\n",
       "      <td>0.77</td>\n",
       "      <td>12.5</td>\n",
       "      <td>7</td>\n",
       "    </tr>\n",
       "    <tr>\n",
       "      <th>6352</th>\n",
       "      <td>5.5</td>\n",
       "      <td>0.160</td>\n",
       "      <td>0.26</td>\n",
       "      <td>1.50</td>\n",
       "      <td>0.032</td>\n",
       "      <td>35.0</td>\n",
       "      <td>100.0</td>\n",
       "      <td>0.99076</td>\n",
       "      <td>3.43</td>\n",
       "      <td>0.77</td>\n",
       "      <td>12.0</td>\n",
       "      <td>6</td>\n",
       "    </tr>\n",
       "    <tr>\n",
       "      <th>5372</th>\n",
       "      <td>5.0</td>\n",
       "      <td>0.610</td>\n",
       "      <td>0.12</td>\n",
       "      <td>1.30</td>\n",
       "      <td>0.009</td>\n",
       "      <td>65.0</td>\n",
       "      <td>100.0</td>\n",
       "      <td>0.98740</td>\n",
       "      <td>3.26</td>\n",
       "      <td>0.37</td>\n",
       "      <td>13.5</td>\n",
       "      <td>5</td>\n",
       "    </tr>\n",
       "    <tr>\n",
       "      <th>1434</th>\n",
       "      <td>10.2</td>\n",
       "      <td>0.540</td>\n",
       "      <td>0.37</td>\n",
       "      <td>15.40</td>\n",
       "      <td>0.214</td>\n",
       "      <td>55.0</td>\n",
       "      <td>95.0</td>\n",
       "      <td>1.00369</td>\n",
       "      <td>3.18</td>\n",
       "      <td>0.77</td>\n",
       "      <td>9.0</td>\n",
       "      <td>6</td>\n",
       "    </tr>\n",
       "    <tr>\n",
       "      <th>877</th>\n",
       "      <td>7.7</td>\n",
       "      <td>0.715</td>\n",
       "      <td>0.01</td>\n",
       "      <td>2.10</td>\n",
       "      <td>0.064</td>\n",
       "      <td>31.0</td>\n",
       "      <td>43.0</td>\n",
       "      <td>0.99371</td>\n",
       "      <td>3.41</td>\n",
       "      <td>0.57</td>\n",
       "      <td>11.8</td>\n",
       "      <td>6</td>\n",
       "    </tr>\n",
       "    <tr>\n",
       "      <th>2120</th>\n",
       "      <td>7.9</td>\n",
       "      <td>0.190</td>\n",
       "      <td>0.26</td>\n",
       "      <td>2.10</td>\n",
       "      <td>0.039</td>\n",
       "      <td>8.0</td>\n",
       "      <td>143.0</td>\n",
       "      <td>0.99420</td>\n",
       "      <td>3.05</td>\n",
       "      <td>0.74</td>\n",
       "      <td>9.8</td>\n",
       "      <td>5</td>\n",
       "    </tr>\n",
       "    <tr>\n",
       "      <th>1053</th>\n",
       "      <td>8.3</td>\n",
       "      <td>0.330</td>\n",
       "      <td>0.42</td>\n",
       "      <td>2.30</td>\n",
       "      <td>0.070</td>\n",
       "      <td>9.0</td>\n",
       "      <td>20.0</td>\n",
       "      <td>0.99426</td>\n",
       "      <td>3.38</td>\n",
       "      <td>0.77</td>\n",
       "      <td>12.7</td>\n",
       "      <td>7</td>\n",
       "    </tr>\n",
       "  </tbody>\n",
       "</table>\n",
       "</div>"
      ],
      "text/plain": [
       "      fixed_acidity  volatile_acidity  citric_acid  residual_sugar  chlorides  \\\n",
       "1708            6.9             0.330         0.28            1.30      0.051   \n",
       "3984            7.6             0.200         0.68           12.90      0.042   \n",
       "4983            6.8             0.230         0.30            6.95      0.044   \n",
       "896             8.3             0.310         0.39            2.40      0.078   \n",
       "6352            5.5             0.160         0.26            1.50      0.032   \n",
       "5372            5.0             0.610         0.12            1.30      0.009   \n",
       "1434           10.2             0.540         0.37           15.40      0.214   \n",
       "877             7.7             0.715         0.01            2.10      0.064   \n",
       "2120            7.9             0.190         0.26            2.10      0.039   \n",
       "1053            8.3             0.330         0.42            2.30      0.070   \n",
       "\n",
       "      free_sulfur_dioxide  total_sulfur_dioxide  density    pH  sulphates  \\\n",
       "1708                 37.0                 187.0  0.99270  3.27       0.60   \n",
       "3984                 56.0                 160.0  0.99841  3.05       0.41   \n",
       "4983                 42.0                 179.0  0.99460  3.25       0.56   \n",
       "896                  17.0                  43.0  0.99444  3.31       0.77   \n",
       "6352                 35.0                 100.0  0.99076  3.43       0.77   \n",
       "5372                 65.0                 100.0  0.98740  3.26       0.37   \n",
       "1434                 55.0                  95.0  1.00369  3.18       0.77   \n",
       "877                  31.0                  43.0  0.99371  3.41       0.57   \n",
       "2120                  8.0                 143.0  0.99420  3.05       0.74   \n",
       "1053                  9.0                  20.0  0.99426  3.38       0.77   \n",
       "\n",
       "      alcohol  quality  \n",
       "1708     10.3        5  \n",
       "3984      8.7        5  \n",
       "4983     10.6        6  \n",
       "896      12.5        7  \n",
       "6352     12.0        6  \n",
       "5372     13.5        5  \n",
       "1434      9.0        6  \n",
       "877      11.8        6  \n",
       "2120      9.8        5  \n",
       "1053     12.7        7  "
      ]
     },
     "execution_count": 56,
     "metadata": {},
     "output_type": "execute_result"
    }
   ],
   "source": [
    "x_teste[360:370]"
   ]
  },
  {
   "cell_type": "code",
   "execution_count": 57,
   "metadata": {},
   "outputs": [
    {
     "data": {
      "text/plain": [
       "array([1, 1, 1, 0, 1, 1, 0, 0, 1, 0])"
      ]
     },
     "execution_count": 57,
     "metadata": {},
     "output_type": "execute_result"
    }
   ],
   "source": [
    "previsoes = model.predict(x_teste[360:370])\n",
    "previsoes"
   ]
  }
 ],
 "metadata": {
  "kernelspec": {
   "display_name": "Python 3.9.2 ('.venv': poetry)",
   "language": "python",
   "name": "python3"
  },
  "language_info": {
   "codemirror_mode": {
    "name": "ipython",
    "version": 3
   },
   "file_extension": ".py",
   "mimetype": "text/x-python",
   "name": "python",
   "nbconvert_exporter": "python",
   "pygments_lexer": "ipython3",
   "version": "3.9.2"
  },
  "orig_nbformat": 4,
  "vscode": {
   "interpreter": {
    "hash": "e444bc227afcf7330f60521317b462c83ae7234bff3a6d3917a440037a4e11a7"
   }
  }
 },
 "nbformat": 4,
 "nbformat_minor": 2
}
